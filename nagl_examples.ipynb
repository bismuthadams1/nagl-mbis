{
 "cells": [
  {
   "cell_type": "code",
   "execution_count": 1,
   "metadata": {},
   "outputs": [],
   "source": [
    "import rdkit\n",
    "from rdkit import Chem\n",
    "from rdkit.Chem import rdmolops"
   ]
  },
  {
   "cell_type": "code",
   "execution_count": 2,
   "metadata": {},
   "outputs": [
    {
     "name": "stderr",
     "output_type": "stream",
     "text": [
      "/tank/home/ndc104/anaconda3/envs/naglmbis/lib/python3.11/site-packages/tqdm/auto.py:21: TqdmWarning: IProgress not found. Please update jupyter and ipywidgets. See https://ipywidgets.readthedocs.io/en/stable/user_install.html\n",
      "  from .autonotebook import tqdm as notebook_tqdm\n"
     ]
    }
   ],
   "source": [
    "from naglmbis.models import load_charge_model\n",
    "# load two pre-trained charge models\n",
    "gas_model = load_charge_model(\"nagl-gas-charge-dipole-wb\")\n",
    "water_model = load_charge_model(\"nagl-water-charge-dipole-wb\")\n"
   ]
  },
  {
   "cell_type": "code",
   "execution_count": 3,
   "metadata": {},
   "outputs": [
    {
     "name": "stdout",
     "output_type": "stream",
     "text": [
      "tensor([[-0.0773],\n",
      "        [-0.5375],\n",
      "        [ 0.0800],\n",
      "        [ 0.0800],\n",
      "        [ 0.0800],\n",
      "        [ 0.3747]], grad_fn=<CatBackward0>)\n",
      "tensor([[-0.0825],\n",
      "        [-0.6246],\n",
      "        [ 0.0904],\n",
      "        [ 0.0904],\n",
      "        [ 0.0904],\n",
      "        [ 0.4359]], grad_fn=<CatBackward0>)\n"
     ]
    }
   ],
   "source": [
    "from openff.toolkit.topology import Molecule\n",
    "\n",
    "# create ethanol\n",
    "methanol = Molecule.from_smiles(\"CO\")\n",
    "# predict the charges (in e) and atomic volumes in (bohr ^3)\n",
    "gas_charges = gas_model.compute_properties(methanol.to_rdkit())[\"mbis-charges\"]\n",
    "water_charges = water_model.compute_properties(methanol.to_rdkit())[\"mbis-charges\"]\n",
    "print(gas_charges)\n",
    "print(water_charges)"
   ]
  },
  {
   "cell_type": "code",
   "execution_count": null,
   "metadata": {},
   "outputs": [],
   "source": []
  },
  {
   "cell_type": "code",
   "execution_count": 4,
   "metadata": {},
   "outputs": [
    {
     "data": {
      "text/plain": [
       "tensor([[-0.0799],\n",
       "        [-0.5810],\n",
       "        [ 0.0852],\n",
       "        [ 0.0852],\n",
       "        [ 0.0852],\n",
       "        [ 0.4053]], grad_fn=<AddBackward0>)"
      ]
     },
     "execution_count": 4,
     "metadata": {},
     "output_type": "execute_result"
    }
   ],
   "source": [
    "from naglmbis.models.base_model import ComputePartialPolarised\n",
    "\n",
    "polarised_model = ComputePartialPolarised(\n",
    "    model_gas=gas_model,\n",
    "    model_water=water_model,\n",
    "    alpha = 0.5\n",
    ")\n",
    "\n",
    "polarised_model.compute_polarised_charges(methanol.to_rdkit())"
   ]
  },
  {
   "cell_type": "code",
   "execution_count": null,
   "metadata": {},
   "outputs": [],
   "source": []
  }
 ],
 "metadata": {
  "kernelspec": {
   "display_name": "Python 3 (ipykernel)",
   "language": "python",
   "name": "python3"
  },
  "language_info": {
   "codemirror_mode": {
    "name": "ipython",
    "version": 3
   },
   "file_extension": ".py",
   "mimetype": "text/x-python",
   "name": "python",
   "nbconvert_exporter": "python",
   "pygments_lexer": "ipython3",
   "version": "3.11.11"
  }
 },
 "nbformat": 4,
 "nbformat_minor": 4
}
