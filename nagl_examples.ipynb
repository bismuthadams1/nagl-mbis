{
 "cells": [
  {
   "cell_type": "code",
   "execution_count": 1,
   "metadata": {},
   "outputs": [],
   "source": [
    "import rdkit"
   ]
  },
  {
   "cell_type": "code",
   "execution_count": 2,
   "metadata": {},
   "outputs": [],
   "source": [
    "from naglmbis.models import load_charge_model\n",
    "# load two pre-trained charge models\n",
    "charge_model = load_charge_model(charge_model=\"nagl-v1-mbis\")\n",
    "# load a model trained to scf dipole and mbis charges\n",
    "charge_model_2 = load_charge_model(charge_model=\"nagl-v1-mbis-dipole\")\n"
   ]
  },
  {
   "cell_type": "code",
   "execution_count": 3,
   "metadata": {},
   "outputs": [],
   "source": [
    "from openff.toolkit.topology import Molecule\n",
    "\n",
    "# create ethanol\n",
    "ethanol = Molecule.from_smiles(\"CCO\")\n",
    "# predict the charges (in e) and atomic volumes in (bohr ^3)\n",
    "charges = charge_model.compute_properties(ethanol.to_rdkit())[\"mbis-charges\"]\n",
    "charges_2 = charge_model_2.compute_properties(ethanol.to_rdkit())[\"mbis-charges\"]"
   ]
  },
  {
   "cell_type": "code",
   "execution_count": 4,
   "metadata": {},
   "outputs": [
    {
     "data": {
      "text/plain": [
       "[-0.41209813952445984,\n",
       " 0.23634019494056702,\n",
       " -0.6952458024024963,\n",
       " 0.12052258104085922,\n",
       " 0.12052258104085922,\n",
       " 0.12052258104085922,\n",
       " 0.02848917990922928,\n",
       " 0.02848917990922928,\n",
       " 0.45245763659477234]"
      ]
     },
     "execution_count": 4,
     "metadata": {},
     "output_type": "execute_result"
    }
   ],
   "source": [
    "charges.flatten().tolist()\n"
   ]
  },
  {
   "cell_type": "code",
   "execution_count": 5,
   "metadata": {},
   "outputs": [
    {
     "data": {
      "text/plain": [
       "[-0.4306110441684723,\n",
       " 0.23793305456638336,\n",
       " -0.6360558271408081,\n",
       " 0.12468185275793076,\n",
       " 0.12468185275793076,\n",
       " 0.12468185275793076,\n",
       " 0.026178915053606033,\n",
       " 0.026178915053606033,\n",
       " 0.4023304581642151]"
      ]
     },
     "execution_count": 5,
     "metadata": {},
     "output_type": "execute_result"
    }
   ],
   "source": [
    "charges_2.flatten().tolist()"
   ]
  },
  {
   "cell_type": "code",
   "execution_count": 6,
   "metadata": {},
   "outputs": [
    {
     "name": "stdout",
     "output_type": "stream",
     "text": [
      "<rdkit.Chem.rdchem.Mol object at 0x1a2812dc0>\n",
      "<rdkit.Chem._GetAtomsIterator object at 0x1a2846910>\n",
      "<rdkit.Chem.rdchem.RingInfo object at 0x1a2813300>\n",
      "\n",
      "     RDKit          2D\n",
      "\n",
      "  3  2  0  0  0  0  0  0  0  0999 V2000\n",
      "   -0.7890   -0.1982   -0.0000 H   0  0  0  0  0  0  0  0  0  0  0  0\n",
      "   -0.0061    0.3917   -0.0000 O   0  0  0  0  0  0  0  0  0  0  0  0\n",
      "    0.7951   -0.1936    0.0000 H   0  0  0  0  0  0  0  0  0  0  0  0\n",
      "  1  2  1  0\n",
      "  2  3  1  0\n",
      "M  END\n",
      "\n",
      "\n",
      "     RDKit          2D\n",
      "\n",
      "  3  2  0  0  0  0  0  0  0  0999 V2000\n",
      "    1.2990    0.7500    0.0000 H   0  0  0  0  0  0  0  0  0  0  0  0\n",
      "    0.0000    0.0000    0.0000 O   0  0  0  0  0  0  0  0  0  0  0  0\n",
      "   -1.2990    0.7500    0.0000 H   0  0  0  0  0  0  0  0  0  0  0  0\n",
      "  1  2  1  0\n",
      "  2  3  1  0\n",
      "M  END\n",
      "\n",
      "tensor([[ 0.4148],\n",
      "        [-0.8296],\n",
      "        [ 0.4148]], grad_fn=<CatBackward0>)\n"
     ]
    }
   ],
   "source": [
    "mol = '\\n     RDKit          2D\\n\\n  3  2  0  0  0  0  0  0  0  0999 V2000\\n   -0.7890   -0.1982   -0.0000 H   0  0  0  0  0  0  0  0  0  0  0  0\\n   -0.0061    0.3917   -0.0000 O   0  0  0  0  0  0  0  0  0  0  0  0\\n    0.7951   -0.1936    0.0000 H   0  0  0  0  0  0  0  0  0  0  0  0\\n  1  2  1  0\\n  2  3  1  0\\nM  END\\n'\n",
    "rdkit_conformer = rdkit.Chem.rdmolfiles.MolFromMolBlock(mol, removeHs = False)\n",
    "print(rdkit_conformer)\n",
    "print(rdkit_conformer.GetAtoms())\n",
    "print(rdkit_conformer.GetRingInfo())\n",
    "water = Molecule.from_smiles(\"[H]O[H]\")\n",
    "waterrd = water.to_rdkit()\n",
    "print(rdkit.Chem.rdmolfiles.MolToMolBlock(rdkit_conformer))\n",
    "print(rdkit.Chem.rdmolfiles.MolToMolBlock(waterrd))\n",
    "\n",
    "charges = charge_model.compute_properties(rdkit_conformer)[\"mbis-charges\"]\n",
    "print(charges)\n"
   ]
  },
  {
   "cell_type": "code",
   "execution_count": null,
   "metadata": {},
   "outputs": [],
   "source": []
  },
  {
   "cell_type": "code",
   "execution_count": 29,
   "metadata": {},
   "outputs": [
    {
     "name": "stdout",
     "output_type": "stream",
     "text": [
      "1\n",
      "2\n",
      "3\n"
     ]
    }
   ],
   "source": [
    "foo = {\n",
    "    'a':    1,\n",
    "    'b':    2,\n",
    "    'c':    3,\n",
    "    }\n",
    "\n",
    "for items in foo.items():\n",
    "    print(items[1])\n",
    "    foo[items[0]] = 'b'"
   ]
  },
  {
   "cell_type": "code",
   "execution_count": 54,
   "metadata": {},
   "outputs": [
    {
     "data": {
      "text/plain": [
       "['b', 'b']"
      ]
     },
     "execution_count": 54,
     "metadata": {},
     "output_type": "execute_result"
    }
   ],
   "source": [
    "[foo[key] for key in ['a','b']]"
   ]
  },
  {
   "cell_type": "code",
   "execution_count": 38,
   "metadata": {},
   "outputs": [
    {
     "name": "stdout",
     "output_type": "stream",
     "text": [
      "/Users/localadmin/Documents/projects/nagl-mbis/test.json\n"
     ]
    }
   ],
   "source": [
    "import json\n",
    "import os\n",
    "file_name = \"test.json\"\n",
    "with open(file_name,\"w\") as outfile:\n",
    "    json.dump(foo, outfile, indent=2)\n",
    "    print(os.path.abspath(file_name))\n"
   ]
  },
  {
   "cell_type": "code",
   "execution_count": null,
   "metadata": {},
   "outputs": [],
   "source": []
  },
  {
   "cell_type": "code",
   "execution_count": 44,
   "metadata": {},
   "outputs": [
    {
     "name": "stdout",
     "output_type": "stream",
     "text": [
      "<rdkit.Chem.rdchem.Mol object at 0x1bf106570>\n",
      "[-0.19048011302947998, 0.0845298022031784, 0.26665380597114563, 0.8065629005432129, -0.7227752208709717, -0.7719027400016785, 0.7308328747749329, -0.35081833600997925, -0.350818395614624, -0.35081833600997925, -0.12038686871528625, 0.11701706796884537, 0.2069305032491684, -0.05823797732591629, 0.6524993181228638, -0.4033324420452118, -0.2333332896232605, -0.060229986906051636, 0.06844428926706314, 0.14812833070755005, 0.017365820705890656, 0.008581675589084625, 0.04318928346037865, 0.008581675589084625, 0.017365820705890656, 0.9407612681388855, -0.5906707048416138, -0.619259238243103, 0.23959247767925262, 0.6557778120040894, -0.4202439486980438, -0.30426764488220215, 0.24175868928432465, -0.02313297614455223, -0.0162445530295372, -0.013178348541259766, 0.007660195231437683, -0.02330682799220085, 0.30678310990333557, -0.029724828898906708, 0.2141391932964325, -0.3046450614929199, 0.2196604162454605, -0.0865010991692543, 0.04149263724684715]\n"
     ]
    }
   ],
   "source": [
    "from rdkit import Chem\n",
    "\n",
    "mol_file = '/Users/localadmin/Documents/projects/molevaluate/tests/data/saq.sdf'\n",
    "molevaluate_example = Chem.SDMolSupplier(mol_file)\n",
    "print(molevaluate_example[0])\n",
    "\n",
    "charges = charge_model.compute_properties(molevaluate_example[0])['mbis-charges']\n",
    "charges = charges.flatten().tolist()\n",
    "print(charges)\n",
    "# molevaluate_openff = Molecule.from_rdkit(molevaluate_example[0])\n",
    "# molevaluate_openff.assign_partial_charges('am1bcc')\n",
    "# molevaluate_openff.partial_charges"
   ]
  }
 ],
 "metadata": {
  "kernelspec": {
   "display_name": "nagl_mbis",
   "language": "python",
   "name": "python3"
  },
  "language_info": {
   "codemirror_mode": {
    "name": "ipython",
    "version": 3
   },
   "file_extension": ".py",
   "mimetype": "text/x-python",
   "name": "python",
   "nbconvert_exporter": "python",
   "pygments_lexer": "ipython3",
   "version": "3.11.8"
  }
 },
 "nbformat": 4,
 "nbformat_minor": 2
}
